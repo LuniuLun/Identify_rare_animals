{
 "cells": [
  {
   "cell_type": "code",
   "execution_count": 1,
   "id": "c0eb3eb2-403c-4c88-8d08-c7817137c81e",
   "metadata": {},
   "outputs": [
    {
     "name": "stdout",
     "output_type": "stream",
     "text": [
      "WARNING:tensorflow:From c:\\Users\\DUC VAN\\miniconda3\\Lib\\site-packages\\keras\\src\\losses.py:2976: The name tf.losses.sparse_softmax_cross_entropy is deprecated. Please use tf.compat.v1.losses.sparse_softmax_cross_entropy instead.\n",
      "\n"
     ]
    }
   ],
   "source": [
    "import tensorflow as tf\n",
    "from tensorflow import keras\n",
    "import numpy as np\n",
    "import matplotlib.pyplot as plt"
   ]
  },
  {
   "cell_type": "code",
   "execution_count": 2,
   "id": "edae02fe-7a10-46de-bebb-11c72783cffa",
   "metadata": {},
   "outputs": [],
   "source": [
    "import os\n",
    "train_image_files_path = \"../Data/dataset_image/\"\n",
    "valid_image_files_path = \"../Data/Validation/\""
   ]
  },
  {
   "cell_type": "code",
   "execution_count": 3,
   "id": "9737db4b",
   "metadata": {},
   "outputs": [
    {
     "data": {
      "text/plain": [
       "['Asian woolly-necked stork',\n",
       " 'Clouded leopard',\n",
       " 'FISHING CAT (PRIONAILURUS VIVERRINUS)',\n",
       " 'FIVE-BAR SWORDTAIL butterfly',\n",
       " 'Green peafowl',\n",
       " 'Hawksbill sea turtle',\n",
       " 'SAUNDERS_S GULL (SAUNDERSILARUS SAUNDERSI)',\n",
       " 'Smooth-coated otter',\n",
       " 'WHALE SHARK (RHINCODON TYPUS)']"
      ]
     },
     "execution_count": 3,
     "metadata": {},
     "output_type": "execute_result"
    }
   ],
   "source": [
    "# Đọc danh sách các thư mục trong đường dẫn train_image_files_path\n",
    "label = [f for f in os.listdir(train_image_files_path) if os.path.isdir(os.path.join(train_image_files_path, f))]\n",
    "label.sort()\n",
    "label"
   ]
  },
  {
   "cell_type": "code",
   "execution_count": 4,
   "id": "0fab3a03",
   "metadata": {},
   "outputs": [],
   "source": [
    "from tensorflow.keras.preprocessing.image import ImageDataGenerator\n",
    "train_data_gen = ImageDataGenerator(rescale=1/255)\n",
    "validation_data_gen = ImageDataGenerator(rescale=1/255)"
   ]
  },
  {
   "cell_type": "code",
   "execution_count": 5,
   "id": "c84e5095",
   "metadata": {},
   "outputs": [
    {
     "name": "stdout",
     "output_type": "stream",
     "text": [
      "Found 1896 images belonging to 9 classes.\n",
      "Found 1111 images belonging to 9 classes.\n"
     ]
    }
   ],
   "source": [
    "train_generator = train_data_gen.flow_from_directory(\n",
    "    train_image_files_path,\n",
    "    target_size=(200, 200),\n",
    "    class_mode='sparse'  # Use 'sparse' for integer labels\n",
    ")\n",
    "\n",
    "validation_generator = validation_data_gen.flow_from_directory(\n",
    "    valid_image_files_path,\n",
    "    target_size=(200, 200),\n",
    "    class_mode='sparse'  # Use 'sparse' for integer labels\n",
    ")"
   ]
  },
  {
   "cell_type": "code",
   "execution_count": 6,
   "id": "981b6b84",
   "metadata": {},
   "outputs": [
    {
     "name": "stdout",
     "output_type": "stream",
     "text": [
      "WARNING:tensorflow:From c:\\Users\\DUC VAN\\miniconda3\\Lib\\site-packages\\keras\\src\\backend.py:873: The name tf.get_default_graph is deprecated. Please use tf.compat.v1.get_default_graph instead.\n",
      "\n",
      "WARNING:tensorflow:From c:\\Users\\DUC VAN\\miniconda3\\Lib\\site-packages\\keras\\src\\layers\\pooling\\max_pooling2d.py:161: The name tf.nn.max_pool is deprecated. Please use tf.nn.max_pool2d instead.\n",
      "\n"
     ]
    }
   ],
   "source": [
    "from keras.models import Sequential\n",
    "from keras.layers import Dense, Dropout, Conv2D, MaxPooling2D, Flatten\n",
    "import tensorflow as tf\n",
    "# Define the model\n",
    "model = Sequential()\n",
    "\n",
    "#CNN1\n",
    "model.add(Conv2D(32, (3,3), activation='relu', input_shape=(200,200,3)))\n",
    "model.add(MaxPooling2D(2,2))\n",
    "\n",
    "#CNN2\n",
    "model.add(Conv2D(64, (3,3), activation='relu'))\n",
    "model.add(MaxPooling2D(2,2))\n",
    "\n",
    "#CNN3\n",
    "model.add(Conv2D(128, (3,3), activation='relu'))\n",
    "model.add(MaxPooling2D(2,2))\n",
    "\n",
    "# Flatten the output\n",
    "model.add(Flatten())\n",
    "# Hidden layer\n",
    "model.add(Dense(512, activation='relu'))\n",
    "# Output layer\n",
    "model.add(Dense(9, activation='softmax'))  # 9 classes, softmax for probabilities\n",
    "\n"
   ]
  },
  {
   "cell_type": "code",
   "execution_count": 7,
   "id": "411b4431",
   "metadata": {},
   "outputs": [
    {
     "name": "stdout",
     "output_type": "stream",
     "text": [
      "WARNING:tensorflow:From c:\\Users\\DUC VAN\\miniconda3\\Lib\\site-packages\\keras\\src\\optimizers\\__init__.py:309: The name tf.train.Optimizer is deprecated. Please use tf.compat.v1.train.Optimizer instead.\n",
      "\n"
     ]
    }
   ],
   "source": [
    "# Compile the model\n",
    "model.compile(optimizer='adam',\n",
    "              loss='sparse_categorical_crossentropy',  # Use sparse categorical crossentropy\n",
    "              metrics=['acc'])\n",
    "\n"
   ]
  },
  {
   "cell_type": "code",
   "execution_count": 8,
   "id": "da80cd86",
   "metadata": {},
   "outputs": [
    {
     "name": "stdout",
     "output_type": "stream",
     "text": [
      "Epoch 1/100\n",
      "WARNING:tensorflow:From c:\\Users\\DUC VAN\\miniconda3\\Lib\\site-packages\\keras\\src\\utils\\tf_utils.py:492: The name tf.ragged.RaggedTensorValue is deprecated. Please use tf.compat.v1.ragged.RaggedTensorValue instead.\n",
      "\n",
      "WARNING:tensorflow:From c:\\Users\\DUC VAN\\miniconda3\\Lib\\site-packages\\keras\\src\\engine\\base_layer_utils.py:384: The name tf.executing_eagerly_outside_functions is deprecated. Please use tf.compat.v1.executing_eagerly_outside_functions instead.\n",
      "\n",
      "3/3 [==============================] - 24s 10s/step - loss: 9.4623 - acc: 0.1771 - val_loss: 4.7583 - val_acc: 0.2880\n",
      "Epoch 2/100\n",
      "3/3 [==============================] - 20s 10s/step - loss: 4.1650 - acc: 0.2396 - val_loss: 1.8972 - val_acc: 0.3888\n",
      "Epoch 3/100\n",
      "3/3 [==============================] - 21s 10s/step - loss: 1.9938 - acc: 0.2604 - val_loss: 1.7703 - val_acc: 0.3618\n",
      "Epoch 4/100\n",
      "3/3 [==============================] - 21s 10s/step - loss: 1.7686 - acc: 0.2812 - val_loss: 1.5281 - val_acc: 0.5563\n",
      "Epoch 5/100\n",
      "3/3 [==============================] - 20s 10s/step - loss: 1.6419 - acc: 0.3438 - val_loss: 1.8030 - val_acc: 0.2682\n",
      "Epoch 6/100\n",
      "3/3 [==============================] - 20s 10s/step - loss: 1.5521 - acc: 0.4271 - val_loss: 1.6532 - val_acc: 0.4878\n",
      "Epoch 7/100\n",
      "3/3 [==============================] - 20s 9s/step - loss: 1.3059 - acc: 0.5729 - val_loss: 1.3326 - val_acc: 0.5851\n",
      "Epoch 8/100\n",
      "3/3 [==============================] - 20s 10s/step - loss: 1.3326 - acc: 0.5729 - val_loss: 1.4886 - val_acc: 0.5455\n",
      "Epoch 9/100\n",
      "3/3 [==============================] - 20s 10s/step - loss: 1.0901 - acc: 0.6458 - val_loss: 1.3416 - val_acc: 0.6130\n",
      "Epoch 10/100\n",
      "3/3 [==============================] - 20s 9s/step - loss: 1.3632 - acc: 0.5625 - val_loss: 1.6793 - val_acc: 0.4761\n",
      "Epoch 11/100\n",
      "3/3 [==============================] - 20s 10s/step - loss: 1.2101 - acc: 0.6042 - val_loss: 1.2502 - val_acc: 0.5905\n",
      "Epoch 12/100\n",
      "3/3 [==============================] - 20s 9s/step - loss: 1.0775 - acc: 0.6562 - val_loss: 1.3813 - val_acc: 0.5617\n",
      "Epoch 13/100\n",
      "3/3 [==============================] - 20s 10s/step - loss: 0.9473 - acc: 0.6771 - val_loss: 1.3382 - val_acc: 0.5302\n",
      "Epoch 14/100\n",
      "3/3 [==============================] - 20s 10s/step - loss: 1.1450 - acc: 0.5417 - val_loss: 1.1885 - val_acc: 0.6373\n",
      "Epoch 15/100\n",
      "3/3 [==============================] - 20s 10s/step - loss: 1.0741 - acc: 0.5938 - val_loss: 1.2897 - val_acc: 0.5977\n",
      "Epoch 16/100\n",
      "3/3 [==============================] - 20s 10s/step - loss: 1.1514 - acc: 0.5938 - val_loss: 1.3086 - val_acc: 0.6103\n",
      "Epoch 17/100\n",
      "3/3 [==============================] - 20s 10s/step - loss: 0.9165 - acc: 0.6667 - val_loss: 1.4175 - val_acc: 0.5014\n",
      "Epoch 18/100\n",
      "3/3 [==============================] - 20s 9s/step - loss: 0.9065 - acc: 0.6458 - val_loss: 1.2559 - val_acc: 0.6166\n",
      "Epoch 19/100\n",
      "3/3 [==============================] - 20s 10s/step - loss: 1.0615 - acc: 0.6354 - val_loss: 1.1764 - val_acc: 0.6310\n",
      "Epoch 20/100\n",
      "3/3 [==============================] - 20s 9s/step - loss: 0.9632 - acc: 0.6354 - val_loss: 1.3280 - val_acc: 0.5914\n",
      "Epoch 21/100\n",
      "3/3 [==============================] - 20s 9s/step - loss: 1.0516 - acc: 0.6562 - val_loss: 1.1188 - val_acc: 0.6805\n",
      "Epoch 22/100\n",
      "3/3 [==============================] - 20s 10s/step - loss: 0.8758 - acc: 0.7083 - val_loss: 1.1162 - val_acc: 0.6436\n",
      "Epoch 23/100\n",
      "3/3 [==============================] - 20s 10s/step - loss: 0.8421 - acc: 0.6979 - val_loss: 1.0159 - val_acc: 0.6769\n",
      "Epoch 24/100\n",
      "3/3 [==============================] - 20s 9s/step - loss: 0.7888 - acc: 0.7396 - val_loss: 0.9672 - val_acc: 0.7318\n",
      "Epoch 25/100\n",
      "3/3 [==============================] - 20s 10s/step - loss: 0.5782 - acc: 0.8125 - val_loss: 1.1771 - val_acc: 0.6409\n",
      "Epoch 26/100\n",
      "3/3 [==============================] - 20s 9s/step - loss: 0.7746 - acc: 0.8021 - val_loss: 1.1492 - val_acc: 0.6823\n",
      "Epoch 27/100\n",
      "3/3 [==============================] - 20s 10s/step - loss: 0.8921 - acc: 0.6875 - val_loss: 1.1221 - val_acc: 0.6292\n",
      "Epoch 28/100\n",
      "3/3 [==============================] - 20s 10s/step - loss: 0.8789 - acc: 0.7188 - val_loss: 0.8335 - val_acc: 0.7777\n",
      "Epoch 29/100\n",
      "3/3 [==============================] - 20s 9s/step - loss: 0.6758 - acc: 0.7812 - val_loss: 0.8450 - val_acc: 0.7921\n",
      "Epoch 30/100\n",
      "3/3 [==============================] - 21s 10s/step - loss: 0.5176 - acc: 0.8646 - val_loss: 0.8412 - val_acc: 0.7831\n",
      "Epoch 31/100\n",
      "3/3 [==============================] - 20s 10s/step - loss: 0.7159 - acc: 0.7917 - val_loss: 1.0985 - val_acc: 0.6751\n",
      "Epoch 32/100\n",
      "3/3 [==============================] - 20s 10s/step - loss: 0.7042 - acc: 0.8333 - val_loss: 0.9000 - val_acc: 0.7696\n",
      "Epoch 33/100\n",
      "3/3 [==============================] - 21s 10s/step - loss: 0.9799 - acc: 0.6875 - val_loss: 0.9451 - val_acc: 0.6859\n",
      "Epoch 34/100\n",
      "3/3 [==============================] - 21s 10s/step - loss: 0.5955 - acc: 0.8021 - val_loss: 1.3095 - val_acc: 0.5113\n",
      "Epoch 35/100\n",
      "3/3 [==============================] - 20s 10s/step - loss: 0.8583 - acc: 0.7188 - val_loss: 0.8071 - val_acc: 0.7543\n",
      "Epoch 36/100\n",
      "3/3 [==============================] - 20s 10s/step - loss: 0.6835 - acc: 0.7500 - val_loss: 0.7366 - val_acc: 0.8128\n",
      "Epoch 37/100\n",
      "3/3 [==============================] - 20s 9s/step - loss: 0.6883 - acc: 0.8021 - val_loss: 0.7014 - val_acc: 0.7930\n",
      "Epoch 38/100\n",
      "3/3 [==============================] - 20s 9s/step - loss: 0.6107 - acc: 0.8646 - val_loss: 0.7671 - val_acc: 0.7570\n",
      "Epoch 39/100\n",
      "3/3 [==============================] - 20s 10s/step - loss: 0.7474 - acc: 0.7500 - val_loss: 0.8535 - val_acc: 0.7282\n",
      "Epoch 40/100\n",
      "3/3 [==============================] - 20s 10s/step - loss: 0.4415 - acc: 0.8646 - val_loss: 0.6537 - val_acc: 0.8335\n",
      "Epoch 41/100\n",
      "3/3 [==============================] - 20s 9s/step - loss: 0.3931 - acc: 0.8854 - val_loss: 0.8767 - val_acc: 0.7318\n",
      "Epoch 42/100\n",
      "3/3 [==============================] - 20s 10s/step - loss: 0.3973 - acc: 0.8646 - val_loss: 0.8682 - val_acc: 0.7570\n",
      "Epoch 43/100\n",
      "3/3 [==============================] - 20s 10s/step - loss: 0.5372 - acc: 0.8021 - val_loss: 0.9233 - val_acc: 0.7300\n",
      "Epoch 44/100\n",
      "3/3 [==============================] - 20s 10s/step - loss: 0.4192 - acc: 0.8438 - val_loss: 0.6553 - val_acc: 0.8335\n",
      "Epoch 45/100\n",
      "3/3 [==============================] - 20s 10s/step - loss: 0.3894 - acc: 0.8958 - val_loss: 0.7573 - val_acc: 0.7903\n",
      "Epoch 46/100\n",
      "3/3 [==============================] - 20s 10s/step - loss: 0.4405 - acc: 0.8333 - val_loss: 0.7792 - val_acc: 0.7732\n",
      "Epoch 47/100\n",
      "3/3 [==============================] - 20s 9s/step - loss: 0.4374 - acc: 0.8333 - val_loss: 0.5549 - val_acc: 0.8443\n",
      "Epoch 48/100\n",
      "3/3 [==============================] - 20s 10s/step - loss: 0.4401 - acc: 0.8542 - val_loss: 0.5715 - val_acc: 0.8398\n",
      "Epoch 49/100\n",
      "3/3 [==============================] - 20s 9s/step - loss: 0.4393 - acc: 0.8750 - val_loss: 0.6440 - val_acc: 0.8110\n",
      "Epoch 50/100\n",
      "3/3 [==============================] - 20s 10s/step - loss: 0.2050 - acc: 0.9375 - val_loss: 0.6650 - val_acc: 0.8146\n",
      "Epoch 51/100\n",
      "3/3 [==============================] - 20s 10s/step - loss: 0.3865 - acc: 0.8854 - val_loss: 0.6685 - val_acc: 0.8245\n",
      "Epoch 52/100\n",
      "3/3 [==============================] - 20s 10s/step - loss: 0.2607 - acc: 0.9167 - val_loss: 0.6898 - val_acc: 0.8110\n",
      "Epoch 53/100\n",
      "3/3 [==============================] - 20s 10s/step - loss: 0.5022 - acc: 0.8854 - val_loss: 0.6135 - val_acc: 0.8452\n",
      "Epoch 54/100\n",
      "3/3 [==============================] - 22s 10s/step - loss: 0.3312 - acc: 0.8889 - val_loss: 0.5976 - val_acc: 0.8371\n",
      "Epoch 55/100\n",
      "3/3 [==============================] - 20s 10s/step - loss: 0.3689 - acc: 0.8958 - val_loss: 0.5139 - val_acc: 0.8605\n",
      "Epoch 56/100\n",
      "3/3 [==============================] - 20s 10s/step - loss: 0.2464 - acc: 0.9062 - val_loss: 0.6107 - val_acc: 0.8317\n",
      "Epoch 57/100\n",
      "3/3 [==============================] - ETA: 0s - loss: 0.2839 - acc: 0.9271"
     ]
    }
   ],
   "source": [
    "# Train the model for 100 epochs, with 3 steps per epoch\n",
    "EPOCHS = 100\n",
    "history = model.fit(\n",
    "    train_generator,\n",
    "    epochs=EPOCHS,\n",
    "    steps_per_epoch=3,  # Set steps_per_epoch to 3\n",
    "    validation_data=validation_generator\n",
    ")\n"
   ]
  },
  {
   "cell_type": "code",
   "execution_count": null,
   "id": "c081409b",
   "metadata": {},
   "outputs": [
    {
     "ename": "NameError",
     "evalue": "name 'model' is not defined",
     "output_type": "error",
     "traceback": [
      "\u001b[1;31m---------------------------------------------------------------------------\u001b[0m",
      "\u001b[1;31mNameError\u001b[0m                                 Traceback (most recent call last)",
      "Cell \u001b[1;32mIn[1], line 27\u001b[0m\n\u001b[0;32m     24\u001b[0m     plt\u001b[38;5;241m.\u001b[39mshow()\n\u001b[0;32m     26\u001b[0m file_path \u001b[38;5;241m=\u001b[39m \u001b[38;5;124m'\u001b[39m\u001b[38;5;124m../Data/Testing/con_hat.jpg\u001b[39m\u001b[38;5;124m'\u001b[39m\n\u001b[1;32m---> 27\u001b[0m \u001b[43mpredict_image\u001b[49m\u001b[43m(\u001b[49m\u001b[43mfile_path\u001b[49m\u001b[43m)\u001b[49m\n",
      "Cell \u001b[1;32mIn[1], line 16\u001b[0m, in \u001b[0;36mpredict_image\u001b[1;34m(image_path)\u001b[0m\n\u001b[0;32m     13\u001b[0m img_array \u001b[38;5;241m=\u001b[39m np\u001b[38;5;241m.\u001b[39mexpand_dims(img_array, axis\u001b[38;5;241m=\u001b[39m\u001b[38;5;241m0\u001b[39m)\n\u001b[0;32m     15\u001b[0m \u001b[38;5;66;03m# Dự đoán\u001b[39;00m\n\u001b[1;32m---> 16\u001b[0m predictions \u001b[38;5;241m=\u001b[39m \u001b[43mmodel\u001b[49m\u001b[38;5;241m.\u001b[39mpredict(img_array)\n\u001b[0;32m     17\u001b[0m predicted_label \u001b[38;5;241m=\u001b[39m label[np\u001b[38;5;241m.\u001b[39margmax(predictions)]\n\u001b[0;32m     18\u001b[0m confidence \u001b[38;5;241m=\u001b[39m np\u001b[38;5;241m.\u001b[39mmax(predictions) \u001b[38;5;241m*\u001b[39m \u001b[38;5;241m100\u001b[39m  \u001b[38;5;66;03m# Độ chính xác trong phần trăm\u001b[39;00m\n",
      "\u001b[1;31mNameError\u001b[0m: name 'model' is not defined"
     ]
    }
   ],
   "source": [
    "from PIL import Image\n",
    "import numpy as np\n",
    "import matplotlib.pyplot as plt\n",
    "\n",
    "# Hàm dự đoán\n",
    "def predict_image(image_path):\n",
    "    # Load ảnh và chuyển đổi về đúng định dạng\n",
    "    img = Image.open(image_path)\n",
    "    img = img.resize((200, 200))\n",
    "    img_array = np.array(img) / 255.0  # Rescale về 0-1\n",
    "\n",
    "    # Thêm một chiều cho batch\n",
    "    img_array = np.expand_dims(img_array, axis=0)\n",
    "\n",
    "    # Dự đoán\n",
    "    predictions = model.predict(img_array)\n",
    "    predicted_label = label[np.argmax(predictions)]\n",
    "    confidence = np.max(predictions) * 100  # Độ chính xác trong phần trăm\n",
    "\n",
    "    # Hiển thị ảnh và kết quả dự đoán\n",
    "    plt.imshow(img)\n",
    "    plt.title(f'Predicted label: {predicted_label} - Confidence: {confidence:.2f}%')\n",
    "    plt.axis('off')\n",
    "    plt.show()\n",
    "\n",
    "file_path = '../Data/Testing/con_hat.jpg'\n",
    "predict_image(file_path)\n",
    "\n"
   ]
  }
 ],
 "metadata": {
  "kernelspec": {
   "display_name": "Python 3 (ipykernel)",
   "language": "python",
   "name": "python3"
  },
  "language_info": {
   "codemirror_mode": {
    "name": "ipython",
    "version": 3
   },
   "file_extension": ".py",
   "mimetype": "text/x-python",
   "name": "python",
   "nbconvert_exporter": "python",
   "pygments_lexer": "ipython3",
   "version": "3.11.5"
  }
 },
 "nbformat": 4,
 "nbformat_minor": 5
}
