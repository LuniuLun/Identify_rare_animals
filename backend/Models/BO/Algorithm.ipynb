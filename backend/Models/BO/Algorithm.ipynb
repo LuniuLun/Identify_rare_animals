{
 "cells": [
  {
   "cell_type": "code",
   "execution_count": 1,
   "id": "c0eb3eb2-403c-4c88-8d08-c7817137c81e",
   "metadata": {},
   "outputs": [
    {
     "name": "stdout",
     "output_type": "stream",
     "text": [
      "WARNING:tensorflow:From c:\\Users\\DUC VAN\\miniconda3\\Lib\\site-packages\\keras\\src\\losses.py:2976: The name tf.losses.sparse_softmax_cross_entropy is deprecated. Please use tf.compat.v1.losses.sparse_softmax_cross_entropy instead.\n",
      "\n"
     ]
    }
   ],
   "source": [
    "import tensorflow as tf\n",
    "from tensorflow import keras\n",
    "import numpy as np\n",
    "import matplotlib.pyplot as plt"
   ]
  },
  {
   "cell_type": "code",
   "execution_count": 2,
   "id": "edae02fe-7a10-46de-bebb-11c72783cffa",
   "metadata": {},
   "outputs": [],
   "source": [
    "import os\n",
    "train_image_files_path = \"../Data/dataset_image/\"\n",
    "valid_image_files_path = \"../Data/Validation/\""
   ]
  },
  {
   "cell_type": "code",
   "execution_count": 3,
   "id": "9737db4b",
   "metadata": {},
   "outputs": [
    {
     "data": {
      "text/plain": [
       "['Asian woolly-necked stork',\n",
       " 'Clouded leopard',\n",
       " 'Edwards pheasant',\n",
       " 'FISHING CAT (PRIONAILURUS VIVERRINUS)',\n",
       " 'FIVE-BAR SWORDTAIL butterfly',\n",
       " 'Green peafowl',\n",
       " 'Hawksbill sea turtle',\n",
       " \"SAUNDERS'S GULL (SAUNDERSILARUS SAUNDERSI)\",\n",
       " 'Smooth-coated otter',\n",
       " 'WHALE SHARK']"
      ]
     },
     "execution_count": 3,
     "metadata": {},
     "output_type": "execute_result"
    }
   ],
   "source": [
    "# Đọc danh sách các thư mục trong đường dẫn train_image_files_path\n",
    "label = [f for f in os.listdir(train_image_files_path) if os.path.isdir(os.path.join(train_image_files_path, f))]\n",
    "label.sort()\n",
    "label"
   ]
  },
  {
   "cell_type": "code",
   "execution_count": 4,
   "id": "0fab3a03",
   "metadata": {},
   "outputs": [],
   "source": [
    "from tensorflow.keras.preprocessing.image import ImageDataGenerator\n",
    "train_data_gen = ImageDataGenerator(rescale=1/255)\n",
    "validation_data_gen = ImageDataGenerator(rescale=1/255)"
   ]
  },
  {
   "cell_type": "code",
   "execution_count": 5,
   "id": "c84e5095",
   "metadata": {},
   "outputs": [
    {
     "name": "stdout",
     "output_type": "stream",
     "text": [
      "Found 2965 images belonging to 10 classes.\n"
     ]
    },
    {
     "name": "stdout",
     "output_type": "stream",
     "text": [
      "Found 1210 images belonging to 10 classes.\n"
     ]
    }
   ],
   "source": [
    "train_generator = train_data_gen.flow_from_directory(\n",
    "    train_image_files_path,\n",
    "    target_size=(200, 200),\n",
    "    class_mode='sparse'  # Use 'sparse' for integer labels\n",
    ")\n",
    "\n",
    "validation_generator = validation_data_gen.flow_from_directory(\n",
    "    valid_image_files_path,\n",
    "    target_size=(200, 200),\n",
    "    class_mode='sparse'  # Use 'sparse' for integer labels\n",
    ")"
   ]
  },
  {
   "cell_type": "code",
   "execution_count": 7,
   "id": "981b6b84",
   "metadata": {},
   "outputs": [],
   "source": [
    "from keras.models import Sequential\n",
    "from keras.layers import Dense, Dropout, Conv2D, MaxPooling2D, Flatten\n",
    "import tensorflow as tf\n",
    "# Define the model\n",
    "model = Sequential()\n",
    "\n",
    "#CNN1\n",
    "model.add(Conv2D(32, (3,3), activation='relu', input_shape=(200,200,3)))\n",
    "model.add(MaxPooling2D(2,2))\n",
    "\n",
    "#CNN2\n",
    "model.add(Conv2D(64, (3,3), activation='relu'))\n",
    "model.add(MaxPooling2D(2,2))\n",
    "\n",
    "#CNN3\n",
    "model.add(Conv2D(128, (3,3), activation='relu'))\n",
    "model.add(MaxPooling2D(2,2))\n",
    "\n",
    "# Flatten the output\n",
    "model.add(Flatten())\n",
    "# Hidden layer\n",
    "model.add(Dense(512, activation='relu'))\n",
    "# Output layer\n",
    "model.add(Dense(10, activation='softmax'))  # 9 classes, softmax for probabilities\n",
    "\n"
   ]
  },
  {
   "cell_type": "code",
   "execution_count": 8,
   "id": "411b4431",
   "metadata": {},
   "outputs": [
    {
     "name": "stdout",
     "output_type": "stream",
     "text": [
      "WARNING:tensorflow:From c:\\Users\\DUC VAN\\miniconda3\\Lib\\site-packages\\keras\\src\\optimizers\\__init__.py:309: The name tf.train.Optimizer is deprecated. Please use tf.compat.v1.train.Optimizer instead.\n",
      "\n"
     ]
    }
   ],
   "source": [
    "# Compile the model\n",
    "model.compile(optimizer='adam',\n",
    "              loss='sparse_categorical_crossentropy',  # Use sparse categorical crossentropy\n",
    "              metrics=['acc'])\n",
    "\n"
   ]
  },
  {
   "cell_type": "code",
   "execution_count": 9,
   "id": "da80cd86",
   "metadata": {},
   "outputs": [
    {
     "name": "stdout",
     "output_type": "stream",
     "text": [
      "Epoch 1/100\n",
      "WARNING:tensorflow:From c:\\Users\\DUC VAN\\miniconda3\\Lib\\site-packages\\keras\\src\\utils\\tf_utils.py:492: The name tf.ragged.RaggedTensorValue is deprecated. Please use tf.compat.v1.ragged.RaggedTensorValue instead.\n",
      "\n",
      "WARNING:tensorflow:From c:\\Users\\DUC VAN\\miniconda3\\Lib\\site-packages\\keras\\src\\engine\\base_layer_utils.py:384: The name tf.executing_eagerly_outside_functions is deprecated. Please use tf.compat.v1.executing_eagerly_outside_functions instead.\n",
      "\n",
      "3/3 [==============================] - 39s 18s/step - loss: 6.3546 - acc: 0.0833 - val_loss: 3.5784 - val_acc: 0.0851\n",
      "Epoch 2/100\n",
      "3/3 [==============================] - 24s 11s/step - loss: 2.7765 - acc: 0.1250 - val_loss: 2.3103 - val_acc: 0.0818\n",
      "Epoch 3/100\n",
      "3/3 [==============================] - 25s 12s/step - loss: 2.1911 - acc: 0.1875 - val_loss: 2.2621 - val_acc: 0.0438\n",
      "Epoch 4/100\n",
      "3/3 [==============================] - 23s 11s/step - loss: 2.2043 - acc: 0.1458 - val_loss: 2.1755 - val_acc: 0.2033\n",
      "Epoch 5/100\n",
      "3/3 [==============================] - 23s 11s/step - loss: 1.9430 - acc: 0.3542 - val_loss: 1.9985 - val_acc: 0.3711\n",
      "Epoch 6/100\n",
      "3/3 [==============================] - 24s 11s/step - loss: 1.9150 - acc: 0.3646 - val_loss: 2.0347 - val_acc: 0.2380\n",
      "Epoch 7/100\n",
      "3/3 [==============================] - 23s 11s/step - loss: 1.7009 - acc: 0.4896 - val_loss: 1.6664 - val_acc: 0.4587\n",
      "Epoch 8/100\n",
      "3/3 [==============================] - 23s 11s/step - loss: 1.3430 - acc: 0.5104 - val_loss: 2.0973 - val_acc: 0.2702\n",
      "Epoch 9/100\n",
      "3/3 [==============================] - 24s 11s/step - loss: 1.6406 - acc: 0.4271 - val_loss: 1.4988 - val_acc: 0.5562\n",
      "Epoch 10/100\n",
      "3/3 [==============================] - 24s 11s/step - loss: 1.4938 - acc: 0.4896 - val_loss: 1.4015 - val_acc: 0.6264\n",
      "Epoch 11/100\n",
      "3/3 [==============================] - 24s 11s/step - loss: 1.4185 - acc: 0.5729 - val_loss: 1.5172 - val_acc: 0.4405\n",
      "Epoch 12/100\n",
      "3/3 [==============================] - 25s 12s/step - loss: 1.1749 - acc: 0.6667 - val_loss: 1.3039 - val_acc: 0.6446\n",
      "Epoch 13/100\n",
      "3/3 [==============================] - 25s 12s/step - loss: 0.9598 - acc: 0.6979 - val_loss: 1.2896 - val_acc: 0.6107\n",
      "Epoch 14/100\n",
      "3/3 [==============================] - 24s 11s/step - loss: 1.0293 - acc: 0.6667 - val_loss: 1.3793 - val_acc: 0.5835\n",
      "Epoch 15/100\n",
      "3/3 [==============================] - 23s 11s/step - loss: 1.2031 - acc: 0.5729 - val_loss: 1.2770 - val_acc: 0.5793\n",
      "Epoch 16/100\n",
      "3/3 [==============================] - 23s 11s/step - loss: 1.2302 - acc: 0.5729 - val_loss: 1.1983 - val_acc: 0.6355\n",
      "Epoch 17/100\n",
      "3/3 [==============================] - 24s 11s/step - loss: 0.9685 - acc: 0.6979 - val_loss: 1.0119 - val_acc: 0.7025\n",
      "Epoch 18/100\n",
      "3/3 [==============================] - 23s 11s/step - loss: 0.9416 - acc: 0.6354 - val_loss: 0.9760 - val_acc: 0.7017\n",
      "Epoch 19/100\n",
      "3/3 [==============================] - 23s 11s/step - loss: 0.8716 - acc: 0.6875 - val_loss: 1.0470 - val_acc: 0.6793\n",
      "Epoch 20/100\n",
      "3/3 [==============================] - 23s 11s/step - loss: 0.9194 - acc: 0.7292 - val_loss: 1.0097 - val_acc: 0.7041\n",
      "Epoch 21/100\n",
      "3/3 [==============================] - 22s 11s/step - loss: 0.7666 - acc: 0.7396 - val_loss: 0.8985 - val_acc: 0.7537\n",
      "Epoch 22/100\n",
      "3/3 [==============================] - 22s 11s/step - loss: 0.7990 - acc: 0.7396 - val_loss: 1.0468 - val_acc: 0.6876\n",
      "Epoch 23/100\n",
      "3/3 [==============================] - 24s 11s/step - loss: 0.7295 - acc: 0.6562 - val_loss: 1.0223 - val_acc: 0.6983\n",
      "Epoch 24/100\n",
      "3/3 [==============================] - 23s 11s/step - loss: 1.0415 - acc: 0.6667 - val_loss: 0.9140 - val_acc: 0.7314\n",
      "Epoch 25/100\n",
      "3/3 [==============================] - 24s 11s/step - loss: 0.9677 - acc: 0.6771 - val_loss: 1.0428 - val_acc: 0.7058\n",
      "Epoch 26/100\n",
      "3/3 [==============================] - 25s 12s/step - loss: 0.9549 - acc: 0.7500 - val_loss: 0.9037 - val_acc: 0.7331\n",
      "Epoch 27/100\n",
      "3/3 [==============================] - 23s 11s/step - loss: 0.9028 - acc: 0.7292 - val_loss: 0.8252 - val_acc: 0.7562\n",
      "Epoch 28/100\n",
      "3/3 [==============================] - 24s 12s/step - loss: 0.8732 - acc: 0.7188 - val_loss: 0.8226 - val_acc: 0.7917\n",
      "Epoch 29/100\n",
      "3/3 [==============================] - 23s 11s/step - loss: 0.5907 - acc: 0.8333 - val_loss: 1.1975 - val_acc: 0.6240\n",
      "Epoch 30/100\n",
      "3/3 [==============================] - 23s 11s/step - loss: 0.6646 - acc: 0.7604 - val_loss: 0.7042 - val_acc: 0.7992\n",
      "Epoch 31/100\n",
      "3/3 [==============================] - 23s 11s/step - loss: 0.8189 - acc: 0.7812 - val_loss: 0.7385 - val_acc: 0.7983\n",
      "Epoch 32/100\n",
      "3/3 [==============================] - 23s 11s/step - loss: 0.8386 - acc: 0.7188 - val_loss: 0.7631 - val_acc: 0.7917\n",
      "Epoch 33/100\n",
      "3/3 [==============================] - 23s 11s/step - loss: 0.6797 - acc: 0.8125 - val_loss: 0.9026 - val_acc: 0.7264\n",
      "Epoch 34/100\n",
      "3/3 [==============================] - 24s 11s/step - loss: 0.7470 - acc: 0.7396 - val_loss: 0.6270 - val_acc: 0.8149\n",
      "Epoch 35/100\n",
      "3/3 [==============================] - 23s 11s/step - loss: 0.8150 - acc: 0.7812 - val_loss: 0.6487 - val_acc: 0.7950\n",
      "Epoch 36/100\n",
      "3/3 [==============================] - 23s 11s/step - loss: 0.5951 - acc: 0.7917 - val_loss: 0.7193 - val_acc: 0.7802\n",
      "Epoch 37/100\n",
      "3/3 [==============================] - 23s 11s/step - loss: 0.6679 - acc: 0.8021 - val_loss: 0.6612 - val_acc: 0.8124\n",
      "Epoch 38/100\n",
      "3/3 [==============================] - 23s 11s/step - loss: 0.6329 - acc: 0.8125 - val_loss: 0.7624 - val_acc: 0.7760\n",
      "Epoch 39/100\n",
      "3/3 [==============================] - 23s 11s/step - loss: 0.5602 - acc: 0.8229 - val_loss: 0.6031 - val_acc: 0.8165\n",
      "Epoch 40/100\n",
      "3/3 [==============================] - 23s 11s/step - loss: 0.4539 - acc: 0.8854 - val_loss: 0.5814 - val_acc: 0.8256\n",
      "Epoch 41/100\n",
      "3/3 [==============================] - 24s 11s/step - loss: 0.5155 - acc: 0.8229 - val_loss: 0.5982 - val_acc: 0.8248\n",
      "Epoch 42/100\n",
      "3/3 [==============================] - 23s 11s/step - loss: 0.4829 - acc: 0.8646 - val_loss: 0.7044 - val_acc: 0.7942\n",
      "Epoch 43/100\n",
      "3/3 [==============================] - 23s 11s/step - loss: 0.5538 - acc: 0.8125 - val_loss: 0.6114 - val_acc: 0.8322\n",
      "Epoch 44/100\n",
      "3/3 [==============================] - 22s 11s/step - loss: 0.4563 - acc: 0.8750 - val_loss: 0.5625 - val_acc: 0.8488\n",
      "Epoch 45/100\n",
      "3/3 [==============================] - 23s 11s/step - loss: 0.4593 - acc: 0.8438 - val_loss: 0.8722 - val_acc: 0.7355\n",
      "Epoch 46/100\n",
      "3/3 [==============================] - 23s 11s/step - loss: 0.3826 - acc: 0.8750 - val_loss: 0.5648 - val_acc: 0.8529\n",
      "Epoch 47/100\n",
      "3/3 [==============================] - 22s 11s/step - loss: 0.4363 - acc: 0.8333 - val_loss: 0.5730 - val_acc: 0.8529\n",
      "Epoch 48/100\n",
      "3/3 [==============================] - 23s 11s/step - loss: 0.2693 - acc: 0.9062 - val_loss: 0.6530 - val_acc: 0.8182\n",
      "Epoch 49/100\n",
      "3/3 [==============================] - 23s 11s/step - loss: 0.3125 - acc: 0.8958 - val_loss: 0.6489 - val_acc: 0.8289\n",
      "Epoch 50/100\n",
      "3/3 [==============================] - 23s 11s/step - loss: 0.4145 - acc: 0.8854 - val_loss: 0.6313 - val_acc: 0.8355\n",
      "Epoch 51/100\n",
      "3/3 [==============================] - 23s 11s/step - loss: 0.4074 - acc: 0.8542 - val_loss: 0.5843 - val_acc: 0.8545\n",
      "Epoch 52/100\n",
      "3/3 [==============================] - 23s 11s/step - loss: 0.8190 - acc: 0.8438 - val_loss: 0.4985 - val_acc: 0.8595\n",
      "Epoch 53/100\n",
      "3/3 [==============================] - 23s 11s/step - loss: 0.4424 - acc: 0.8958 - val_loss: 0.5720 - val_acc: 0.8256\n",
      "Epoch 54/100\n",
      "3/3 [==============================] - 23s 11s/step - loss: 0.6720 - acc: 0.8021 - val_loss: 0.6237 - val_acc: 0.7884\n",
      "Epoch 55/100\n",
      "3/3 [==============================] - 22s 11s/step - loss: 0.5986 - acc: 0.8438 - val_loss: 0.4509 - val_acc: 0.8595\n",
      "Epoch 56/100\n",
      "3/3 [==============================] - 23s 11s/step - loss: 0.5214 - acc: 0.8542 - val_loss: 0.4214 - val_acc: 0.8760\n",
      "Epoch 57/100\n",
      "3/3 [==============================] - 26s 12s/step - loss: 0.3995 - acc: 0.8646 - val_loss: 0.3863 - val_acc: 0.8860\n",
      "Epoch 58/100\n",
      "3/3 [==============================] - 28s 14s/step - loss: 0.3208 - acc: 0.9167 - val_loss: 0.3467 - val_acc: 0.8860\n",
      "Epoch 59/100\n",
      "3/3 [==============================] - 30s 15s/step - loss: 0.2918 - acc: 0.9479 - val_loss: 0.3947 - val_acc: 0.8645\n",
      "Epoch 60/100\n",
      "3/3 [==============================] - 28s 13s/step - loss: 0.3925 - acc: 0.9062 - val_loss: 0.5268 - val_acc: 0.8397\n",
      "Epoch 61/100\n",
      "3/3 [==============================] - 27s 13s/step - loss: 0.3863 - acc: 0.8333 - val_loss: 0.4748 - val_acc: 0.8364\n",
      "Epoch 62/100\n",
      "3/3 [==============================] - 23s 11s/step - loss: 0.3607 - acc: 0.8854 - val_loss: 0.4488 - val_acc: 0.8545\n",
      "Epoch 63/100\n",
      "3/3 [==============================] - 23s 11s/step - loss: 0.4318 - acc: 0.8542 - val_loss: 0.4483 - val_acc: 0.8702\n",
      "Epoch 64/100\n",
      "3/3 [==============================] - 23s 11s/step - loss: 0.5913 - acc: 0.8542 - val_loss: 0.4199 - val_acc: 0.8736\n",
      "Epoch 65/100\n",
      "3/3 [==============================] - 23s 11s/step - loss: 0.3303 - acc: 0.8854 - val_loss: 0.5283 - val_acc: 0.8405\n",
      "Epoch 66/100\n",
      "3/3 [==============================] - 23s 11s/step - loss: 0.3442 - acc: 0.8646 - val_loss: 0.3839 - val_acc: 0.8818\n",
      "Epoch 67/100\n",
      "3/3 [==============================] - 23s 11s/step - loss: 0.3209 - acc: 0.9062 - val_loss: 0.3690 - val_acc: 0.8818\n",
      "Epoch 68/100\n",
      "3/3 [==============================] - 23s 11s/step - loss: 0.3387 - acc: 0.8750 - val_loss: 0.3458 - val_acc: 0.8967\n",
      "Epoch 69/100\n",
      "3/3 [==============================] - 23s 11s/step - loss: 0.3066 - acc: 0.8854 - val_loss: 0.4156 - val_acc: 0.8802\n",
      "Epoch 70/100\n",
      "3/3 [==============================] - 23s 11s/step - loss: 0.3343 - acc: 0.8854 - val_loss: 0.4499 - val_acc: 0.8702\n",
      "Epoch 71/100\n",
      "3/3 [==============================] - 23s 11s/step - loss: 0.3476 - acc: 0.8646 - val_loss: 0.5030 - val_acc: 0.8496\n",
      "Epoch 72/100\n",
      "3/3 [==============================] - 23s 11s/step - loss: 0.3667 - acc: 0.9062 - val_loss: 0.4523 - val_acc: 0.8727\n",
      "Epoch 73/100\n",
      "3/3 [==============================] - 23s 11s/step - loss: 0.3115 - acc: 0.8854 - val_loss: 0.3866 - val_acc: 0.8818\n",
      "Epoch 74/100\n",
      "3/3 [==============================] - 23s 11s/step - loss: 0.2424 - acc: 0.9271 - val_loss: 0.3741 - val_acc: 0.8901\n",
      "Epoch 75/100\n",
      "3/3 [==============================] - 23s 11s/step - loss: 0.3117 - acc: 0.9479 - val_loss: 0.3244 - val_acc: 0.9033\n",
      "Epoch 76/100\n",
      "3/3 [==============================] - 23s 11s/step - loss: 0.6213 - acc: 0.8438 - val_loss: 0.3641 - val_acc: 0.8802\n",
      "Epoch 77/100\n",
      "3/3 [==============================] - 23s 11s/step - loss: 0.3880 - acc: 0.8958 - val_loss: 0.3248 - val_acc: 0.9025\n",
      "Epoch 78/100\n",
      "3/3 [==============================] - 23s 11s/step - loss: 0.3142 - acc: 0.8958 - val_loss: 0.3643 - val_acc: 0.8818\n",
      "Epoch 79/100\n",
      "3/3 [==============================] - 23s 11s/step - loss: 0.3647 - acc: 0.8646 - val_loss: 0.2851 - val_acc: 0.9124\n",
      "Epoch 80/100\n",
      "3/3 [==============================] - 23s 11s/step - loss: 0.3334 - acc: 0.9062 - val_loss: 0.3520 - val_acc: 0.8934\n",
      "Epoch 81/100\n",
      "3/3 [==============================] - 23s 11s/step - loss: 0.2681 - acc: 0.8958 - val_loss: 0.3607 - val_acc: 0.8826\n",
      "Epoch 82/100\n",
      "3/3 [==============================] - 24s 11s/step - loss: 0.2577 - acc: 0.9167 - val_loss: 0.2930 - val_acc: 0.9058\n",
      "Epoch 83/100\n",
      "3/3 [==============================] - 23s 11s/step - loss: 0.2834 - acc: 0.8958 - val_loss: 0.3040 - val_acc: 0.9025\n",
      "Epoch 84/100\n",
      "3/3 [==============================] - 24s 12s/step - loss: 0.4047 - acc: 0.8646 - val_loss: 0.2914 - val_acc: 0.9074\n",
      "Epoch 85/100\n",
      "3/3 [==============================] - 24s 11s/step - loss: 0.4957 - acc: 0.8438 - val_loss: 0.2835 - val_acc: 0.9074\n",
      "Epoch 86/100\n",
      "3/3 [==============================] - 24s 11s/step - loss: 0.3682 - acc: 0.8750 - val_loss: 0.3162 - val_acc: 0.9099\n",
      "Epoch 87/100\n",
      "3/3 [==============================] - 24s 12s/step - loss: 0.3772 - acc: 0.8854 - val_loss: 0.4491 - val_acc: 0.8645\n",
      "Epoch 88/100\n",
      "3/3 [==============================] - 23s 11s/step - loss: 0.3637 - acc: 0.9062 - val_loss: 0.3069 - val_acc: 0.9149\n",
      "Epoch 89/100\n",
      "3/3 [==============================] - 24s 11s/step - loss: 0.1652 - acc: 0.9688 - val_loss: 0.2187 - val_acc: 0.9413\n",
      "Epoch 90/100\n",
      "3/3 [==============================] - 24s 12s/step - loss: 0.2223 - acc: 0.9375 - val_loss: 0.2068 - val_acc: 0.9355\n",
      "Epoch 91/100\n",
      "3/3 [==============================] - 24s 11s/step - loss: 0.1941 - acc: 0.9583 - val_loss: 0.2388 - val_acc: 0.9240\n",
      "Epoch 92/100\n",
      "3/3 [==============================] - 24s 11s/step - loss: 0.1343 - acc: 0.9583 - val_loss: 0.3496 - val_acc: 0.8934\n",
      "Epoch 93/100\n",
      "3/3 [==============================] - 24s 11s/step - loss: 0.1803 - acc: 0.9479 - val_loss: 0.2856 - val_acc: 0.9157\n",
      "Epoch 94/100\n",
      "3/3 [==============================] - 24s 11s/step - loss: 0.1984 - acc: 0.9375 - val_loss: 0.1831 - val_acc: 0.9488\n",
      "Epoch 95/100\n",
      "3/3 [==============================] - 24s 11s/step - loss: 0.1930 - acc: 0.9375 - val_loss: 0.2053 - val_acc: 0.9355\n",
      "Epoch 96/100\n",
      "3/3 [==============================] - 24s 11s/step - loss: 0.1691 - acc: 0.9479 - val_loss: 0.2453 - val_acc: 0.9157\n",
      "Epoch 97/100\n",
      "3/3 [==============================] - 23s 11s/step - loss: 0.1559 - acc: 0.9271 - val_loss: 0.2506 - val_acc: 0.9264\n",
      "Epoch 98/100\n",
      "3/3 [==============================] - 24s 11s/step - loss: 0.1102 - acc: 0.9529 - val_loss: 0.2635 - val_acc: 0.9207\n",
      "Epoch 99/100\n",
      "3/3 [==============================] - 24s 11s/step - loss: 0.1665 - acc: 0.9375 - val_loss: 0.2372 - val_acc: 0.9380\n",
      "Epoch 100/100\n",
      "3/3 [==============================] - 24s 12s/step - loss: 0.2543 - acc: 0.9062 - val_loss: 0.2006 - val_acc: 0.9421\n"
     ]
    }
   ],
   "source": [
    "# Train the model for 100 epochs, with 3 steps per epoch\n",
    "EPOCHS = 100\n",
    "history = model.fit(\n",
    "    train_generator,\n",
    "    epochs=EPOCHS,\n",
    "    steps_per_epoch=3,  # Set steps_per_epoch to 3\n",
    "    validation_data=validation_generator\n",
    ")\n"
   ]
  },
  {
   "cell_type": "code",
   "execution_count": 10,
   "id": "7320c865",
   "metadata": {},
   "outputs": [
    {
     "name": "stderr",
     "output_type": "stream",
     "text": [
      "c:\\Users\\DUC VAN\\miniconda3\\Lib\\site-packages\\keras\\src\\engine\\training.py:3103: UserWarning: You are saving your model as an HDF5 file via `model.save()`. This file format is considered legacy. We recommend using instead the native Keras format, e.g. `model.save('my_model.keras')`.\n",
      "  saving_api.save_model(\n"
     ]
    }
   ],
   "source": [
    "# Lưu model sau khi huấn luyện\n",
    "model.save(\"trained_animal_model.h5\")"
   ]
  },
  {
   "cell_type": "code",
   "execution_count": 11,
   "id": "c081409b",
   "metadata": {},
   "outputs": [
    {
     "name": "stdout",
     "output_type": "stream",
     "text": [
      "1/1 [==============================] - 0s 145ms/step\n"
     ]
    },
    {
     "data": {
      "image/png": "[encoded data removed]",
      "text/plain": [
       "<Figure size 640x480 with 1 Axes>"
      ]
     },
     "metadata": {},
     "output_type": "display_data"
    }
   ],
   "source": [
    "from PIL import Image\n",
    "import numpy as np\n",
    "import matplotlib.pyplot as plt\n",
    "from tensorflow.keras.models import load_model\n",
    "\n",
    "# Hàm dự đoán\n",
    "def predict_image(image_path):\n",
    "    # Load ảnh và chuyển đổi về đúng định dạng\n",
    "    model = load_model(\"./trained_animal_model.h5\")\n",
    "    img = Image.open(image_path)\n",
    "    img = img.resize((200, 200))\n",
    "    img_array = np.array(img) / 255.0  # Rescale về 0-1\n",
    "\n",
    "    # Thêm một chiều cho batch\n",
    "    img_array = np.expand_dims(img_array, axis=0)\n",
    "\n",
    "    # Dự đoán\n",
    "    predictions = model.predict(img_array)\n",
    "    predicted_label = label[np.argmax(predictions)]\n",
    "    confidence = np.max(predictions) * 100  # Độ chính xác trong phần trăm\n",
    "\n",
    "    # Hiển thị ảnh và kết quả dự đoán\n",
    "    plt.imshow(img)\n",
    "    plt.title(f'Predicted label: {predicted_label} - Confidence: {confidence:.2f}%')\n",
    "    plt.axis('off')\n",
    "    plt.show()\n",
    "\n",
    "file_path = '../Data/Testing/GULL 2.jpg'\n",
    "predict_image(file_path)\n",
    "\n"
   ]
  }
 ],
 "metadata": {
  "kernelspec": {
   "display_name": "Python 3 (ipykernel)",
   "language": "python",
   "name": "python3"
  },
  "language_info": {
   "codemirror_mode": {
    "name": "ipython",
    "version": 3
   },
   "file_extension": ".py",
   "mimetype": "text/x-python",
   "name": "python",
   "nbconvert_exporter": "python",
   "pygments_lexer": "ipython3",
   "version": "3.11.5"
  }
 },
 "nbformat": 4,
 "nbformat_minor": 5
}
